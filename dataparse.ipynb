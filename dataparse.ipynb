{
 "cells": [
  {
   "cell_type": "code",
   "execution_count": 59,
   "metadata": {},
   "outputs": [],
   "source": [
    "import pandas as pd"
   ]
  },
  {
   "cell_type": "code",
   "execution_count": 60,
   "metadata": {},
   "outputs": [],
   "source": [
    "import json"
   ]
  },
  {
   "cell_type": "code",
   "execution_count": 61,
   "metadata": {},
   "outputs": [],
   "source": [
    "\n",
    "my_dict = {}\n",
    "with open(\"/Users/denisdunn/flatiron/nyc-mhtn-ds-031119-lectures/project1/moviedb\") as f:\n",
    "    movie_raw=f.read()\n",
    "        "
   ]
  },
  {
   "cell_type": "code",
   "execution_count": 62,
   "metadata": {
    "scrolled": false
   },
   "outputs": [
    {
     "ename": "NameError",
     "evalue": "name 'false' is not defined",
     "output_type": "error",
     "traceback": [
      "\u001b[0;31m---------------------------------------------------------------------------\u001b[0m",
      "\u001b[0;31mNameError\u001b[0m                                 Traceback (most recent call last)",
      "\u001b[0;32m<ipython-input-62-1dbf1a92d2ef>\u001b[0m in \u001b[0;36m<module>\u001b[0;34m\u001b[0m\n\u001b[0;32m----> 1\u001b[0;31m \u001b[0meval\u001b[0m\u001b[0;34m(\u001b[0m\u001b[0mmovie_raw\u001b[0m\u001b[0;34m)\u001b[0m\u001b[0;34m\u001b[0m\u001b[0;34m\u001b[0m\u001b[0m\n\u001b[0m\u001b[1;32m      2\u001b[0m \u001b[0;34m\u001b[0m\u001b[0m\n\u001b[1;32m      3\u001b[0m \u001b[0;34m\u001b[0m\u001b[0m\n",
      "\u001b[0;32m<string>\u001b[0m in \u001b[0;36m<module>\u001b[0;34m\u001b[0m\n",
      "\u001b[0;31mNameError\u001b[0m: name 'false' is not defined"
     ]
    }
   ],
   "source": [
    "eval(movie_raw)\n",
    "    \n",
    "\n"
   ]
  },
  {
   "cell_type": "code",
   "execution_count": 67,
   "metadata": {},
   "outputs": [
    {
     "data": {
      "text/plain": [
       "'[{\"adult\": false, \"backdrop_path\": \"/w2PMyoyLU22YvrGK3smVM9fW1jj.jpg\", \"belongs_to_collection\": null, \"budget\": 152000000, \"genres\": [{\"id\": 28, \"name\": \"Action\"}, {\"id\": 12, \"name\": \"Adventure\"}, {\"i'"
      ]
     },
     "execution_count": 67,
     "metadata": {},
     "output_type": "execute_result"
    }
   ],
   "source": [
    "movie_raw[:200]"
   ]
  },
  {
   "cell_type": "code",
   "execution_count": 65,
   "metadata": {},
   "outputs": [
    {
     "data": {
      "text/plain": [
       "str"
      ]
     },
     "execution_count": 65,
     "metadata": {},
     "output_type": "execute_result"
    }
   ],
   "source": [
    "type(movie_raw)"
   ]
  },
  {
   "cell_type": "code",
   "execution_count": null,
   "metadata": {},
   "outputs": [],
   "source": []
  },
  {
   "cell_type": "code",
   "execution_count": null,
   "metadata": {},
   "outputs": [],
   "source": []
  },
  {
   "cell_type": "code",
   "execution_count": 111,
   "metadata": {},
   "outputs": [
    {
     "data": {
      "text/plain": [
       "'{\"adult\": False, \"backdrop_path\": \"/h3KN24PrOheHVYs9ypuOIdFBEpX.jpg\", \"belongs_to_collection\": {\"id\": 89137, \"name\": \"How to Train Your Dragon Collection\", \"poster_path\": \"/4tBKIkPLFMkiZETjAMOHNoty8B1.jpg\", \"backdrop_path\": \"/mvcfPkOvgDJG2lEAxTz0NKqoQLo.jpg\"}, \"budget\": 129000000, \"genre1: \"Animation\", genre2: \"Family\", genre3: \"Adventure\", homepage\": \"https://www.howtotrainyourdragon.com/\", \"id\": 166428, \"imdb_id\": \"tt2386490\", \"original_language\": \"en\", \"original_title\": \"How to Train Your Dragon: The Hidden World\", \"overview\": \"As Hiccup fulfills his dream of creating a peaceful dragon utopia, Toothless\\\\u2019 discovery of an untamed, elusive mate draws the Night Fury away. When danger mounts at home and Hiccup\\\\u2019s reign as village chief is tested, both dragon and rider must make impossible decisions to save their kind.\", \"popularity\": 391.562, \"poster_path\": \"/xvx4Yhf0DVH8G4LzNISpMfFBDy2.jpg\", \"production_companies\": [{\"id\": 521, \"logo_path\": \"/kP7t6RwGz2AvvTkvnI1uteEwHet.png\", \"name\": \"DreamWorks Animation\", \"origin_country\": \"US\"}, {\"id\": 33, \"logo_path\": \"/8lvHyhjr8oUKOOy2dKXoALWKdp0.png\", \"name\": \"Universal Pictures\", \"origin_country\": \"US\"}], \"production_countries\": [{\"iso_3166_1\": \"US\", \"name\": \"United States of America\"}], \"release_date\": \"2019-01-03\", \"revenue\": 375396270, \"runtime\": 104, \"spoken_languages\": [{\"iso_639_1\": \"en\", \"name\": \"English\"}], \"status\": \"Released\", \"tagline\": \"The friendship of a lifetime\", \"title\": \"How to Train Your Dragon: The Hidden World\", \"video\": false, \"vote_average\": 7.7, \"vote_count\": 1137}, '"
      ]
     },
     "execution_count": 111,
     "metadata": {},
     "output_type": "execute_result"
    }
   ],
   "source": [
    "flatten_genres_homepage(movie_raw[1])"
   ]
  },
  {
   "cell_type": "code",
   "execution_count": 114,
   "metadata": {},
   "outputs": [
    {
     "ename": "SyntaxError",
     "evalue": "invalid syntax (<string>, line 1)",
     "output_type": "error",
     "traceback": [
      "Traceback \u001b[0;36m(most recent call last)\u001b[0m:\n",
      "  File \u001b[1;32m\"/anaconda3/lib/python3.7/site-packages/IPython/core/interactiveshell.py\"\u001b[0m, line \u001b[1;32m3267\u001b[0m, in \u001b[1;35mrun_code\u001b[0m\n    exec(code_obj, self.user_global_ns, self.user_ns)\n",
      "\u001b[0;36m  File \u001b[0;32m\"<ipython-input-114-cc67d4cc0ed0>\"\u001b[0;36m, line \u001b[0;32m1\u001b[0;36m, in \u001b[0;35m<module>\u001b[0;36m\u001b[0m\n\u001b[0;31m    eval('{\"adult\": False, \"backdrop_path\": \"/h3KN24PrOheHVYs9ypuOIdFBEpX.jpg\", \"belongs_to_collection\": {\"id\": 89137, \"name\": \"How to Train Your Dragon Collection\", \"poster_path\": \"/4tBKIkPLFMkiZETjAMOHNoty8B1.jpg\", \"backdrop_path\": \"/mvcfPkOvgDJG2lEAxTz0NKqoQLo.jpg\"}, \"budget\": 129000000, \"genre1: \"Animation\", genre2: \"Family\", genre3: \"Adventure\", homepage\": \"https://www.howtotrainyourdragon.com/\", \"id\": 166428, \"imdb_id\": \"tt2386490\", \"original_language\": \"en\", \"original_title\": \"How to Train Your Dragon: The Hidden World\", \"overview\": \"As Hiccup fulfills his dream of creating a peaceful dragon utopia, Toothless\\\\u2019 discovery of an untamed, elusive mate draws the Night Fury away. When danger mounts at home and Hiccup\\\\u2019s reign as village chief is tested, both dragon and rider must make impossible decisions to save their kind.\", \"popularity\": 391.562, \"poster_path\": \"/xvx4Yhf0DVH8G4LzNISpMfFBDy2.jpg\", \"production_companies\": [{\"id\": 521, \"logo_path\": \"/kP7t6RwGz2AvvTkvnI1uteEwHet.png\", \"name\": \"DreamWorks Animation\", \"origin_country\": \"US\"}, {\"id\": 33, \"logo_path\": \"/8lvHyhjr8oUKOOy2dKXoALWKdp0.png\", \"name\": \"Universal Pictures\", \"origin_country\": \"US\"}], \"production_countries\": [{\"iso_3166_1\": \"US\", \"name\": \"United States of America\"}], \"release_date\": \"2019-01-03\", \"revenue\": 375396270, \"runtime\": 104, \"spoken_languages\": [{\"iso_639_1\": \"en\", \"name\": \"English\"}], \"status\": \"Released\", \"tagline\": \"The friendship of a lifetime\", \"title\": \"How to Train Your Dragon: The Hidden World\", \"video\": false, \"vote_average\": 7.7, \"vote_count\": 1137}')\u001b[0m\n",
      "\u001b[0;36m  File \u001b[0;32m\"<string>\"\u001b[0;36m, line \u001b[0;32m1\u001b[0m\n\u001b[0;31m    {\"adult\": False, \"backdrop_path\": \"/h3KN24PrOheHVYs9ypuOIdFBEpX.jpg\", \"belongs_to_collection\": {\"id\": 89137, \"name\": \"How to Train Your Dragon Collection\", \"poster_path\": \"/4tBKIkPLFMkiZETjAMOHNoty8B1.jpg\", \"backdrop_path\": \"/mvcfPkOvgDJG2lEAxTz0NKqoQLo.jpg\"}, \"budget\": 129000000, \"genre1: \"Animation\", genre2: \"Family\", genre3: \"Adventure\", homepage\": \"https://www.howtotrainyourdragon.com/\", \"id\": 166428, \"imdb_id\": \"tt2386490\", \"original_language\": \"en\", \"original_title\": \"How to Train Your Dragon: The Hidden World\", \"overview\": \"As Hiccup fulfills his dream of creating a peaceful dragon utopia, Toothless\\u2019 discovery of an untamed, elusive mate draws the Night Fury away. When danger mounts at home and Hiccup\\u2019s reign as village chief is tested, both dragon and rider must make impossible decisions to save their kind.\", \"popularity\": 391.562, \"poster_path\": \"/xvx4Yhf0DVH8G4LzNISpMfFBDy2.jpg\", \"production_companies\": [{\"id\": 521, \"logo_path\": \"/kP7t6RwGz2AvvTkvnI1uteEwHet.png\", \"name\": \"DreamWorks Animation\", \"origin_country\": \"US\"}, {\"id\": 33, \"logo_path\": \"/8lvHyhjr8oUKOOy2dKXoALWKdp0.png\", \"name\": \"Universal Pictures\", \"origin_country\": \"US\"}], \"production_countries\": [{\"iso_3166_1\": \"US\", \"name\": \"United States of America\"}], \"release_date\": \"2019-01-03\", \"revenue\": 375396270, \"runtime\": 104, \"spoken_languages\": [{\"iso_639_1\": \"en\", \"name\": \"English\"}], \"status\": \"Released\", \"tagline\": \"The friendship of a lifetime\", \"title\": \"How to Train Your Dragon: The Hidden World\", \"video\": false, \"vote_average\": 7.7, \"vote_count\": 1137}\u001b[0m\n\u001b[0m                                                                                                                                                                                                                                                                                                                ^\u001b[0m\n\u001b[0;31mSyntaxError\u001b[0m\u001b[0;31m:\u001b[0m invalid syntax\n"
     ]
    }
   ],
   "source": [
    "eval('{\"adult\": False, \"backdrop_path\": \"/h3KN24PrOheHVYs9ypuOIdFBEpX.jpg\", \"belongs_to_collection\": {\"id\": 89137, \"name\": \"How to Train Your Dragon Collection\", \"poster_path\": \"/4tBKIkPLFMkiZETjAMOHNoty8B1.jpg\", \"backdrop_path\": \"/mvcfPkOvgDJG2lEAxTz0NKqoQLo.jpg\"}, \"budget\": 129000000, \"genre1: \"Animation\", genre2: \"Family\", genre3: \"Adventure\", homepage\": \"https://www.howtotrainyourdragon.com/\", \"id\": 166428, \"imdb_id\": \"tt2386490\", \"original_language\": \"en\", \"original_title\": \"How to Train Your Dragon: The Hidden World\", \"overview\": \"As Hiccup fulfills his dream of creating a peaceful dragon utopia, Toothless\\\\u2019 discovery of an untamed, elusive mate draws the Night Fury away. When danger mounts at home and Hiccup\\\\u2019s reign as village chief is tested, both dragon and rider must make impossible decisions to save their kind.\", \"popularity\": 391.562, \"poster_path\": \"/xvx4Yhf0DVH8G4LzNISpMfFBDy2.jpg\", \"production_companies\": [{\"id\": 521, \"logo_path\": \"/kP7t6RwGz2AvvTkvnI1uteEwHet.png\", \"name\": \"DreamWorks Animation\", \"origin_country\": \"US\"}, {\"id\": 33, \"logo_path\": \"/8lvHyhjr8oUKOOy2dKXoALWKdp0.png\", \"name\": \"Universal Pictures\", \"origin_country\": \"US\"}], \"production_countries\": [{\"iso_3166_1\": \"US\", \"name\": \"United States of America\"}], \"release_date\": \"2019-01-03\", \"revenue\": 375396270, \"runtime\": 104, \"spoken_languages\": [{\"iso_639_1\": \"en\", \"name\": \"English\"}], \"status\": \"Released\", \"tagline\": \"The friendship of a lifetime\", \"title\": \"How to Train Your Dragon: The Hidden World\", \"video\": false, \"vote_average\": 7.7, \"vote_count\": 1137}')"
   ]
  },
  {
   "cell_type": "code",
   "execution_count": null,
   "metadata": {},
   "outputs": [],
   "source": [
    "import sqlite3 \n",
    "connection = sqlite3.connect('line')\n",
    "cursor = connection.cursor()"
   ]
  },
  {
   "cell_type": "code",
   "execution_count": null,
   "metadata": {},
   "outputs": [],
   "source": [
    "cursor.execute('''\n",
    "CREATE TABLE  (\n",
    "    id INTEGER PRIMARY KEY,\n",
    "    name TEXT,\n",
    "    color INTEGER,\n",
    "    num_of_moons TEXT,\n",
    "    mass REAL\n",
    ")\n",
    "''')"
   ]
  }
 ],
 "metadata": {
  "kernelspec": {
   "display_name": "Python 3",
   "language": "python",
   "name": "python3"
  },
  "language_info": {
   "codemirror_mode": {
    "name": "ipython",
    "version": 3
   },
   "file_extension": ".py",
   "mimetype": "text/x-python",
   "name": "python",
   "nbconvert_exporter": "python",
   "pygments_lexer": "ipython3",
   "version": "3.7.1"
  }
 },
 "nbformat": 4,
 "nbformat_minor": 2
}
